{
 "cells": [
  {
   "cell_type": "markdown",
   "id": "distinguished-demonstration",
   "metadata": {},
   "source": [
    "# Phytoplankton growth"
   ]
  },
  {
   "cell_type": "markdown",
   "id": "lightweight-howard",
   "metadata": {},
   "source": [
    "Net growth of phytoplankton groups (JPi) in MARBL is calculated using\n",
    "\n",
    "$$\n",
    "J_{P_i} = \\mu_i P_i - G(P_i^\\prime) - m_i T_f {P_i^\\prime} - A(P_i^\\prime)\n",
    "$$"
   ]
  }
 ],
 "metadata": {
  "kernelspec": {
   "display_name": "Python 3",
   "language": "python",
   "name": "python3"
  },
  "language_info": {
   "codemirror_mode": {
    "name": "ipython",
    "version": 3
   },
   "file_extension": ".py",
   "mimetype": "text/x-python",
   "name": "python",
   "nbconvert_exporter": "python",
   "pygments_lexer": "ipython3",
   "version": "3.9.2"
  }
 },
 "nbformat": 4,
 "nbformat_minor": 5
}
